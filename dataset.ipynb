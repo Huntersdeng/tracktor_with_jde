{
 "nbformat": 4,
 "nbformat_minor": 2,
 "metadata": {
  "language_info": {
   "name": "python",
   "codemirror_mode": {
    "name": "ipython",
    "version": 3
   },
   "version": "3.7.7-final"
  },
  "orig_nbformat": 2,
  "file_extension": ".py",
  "mimetype": "text/x-python",
  "name": "python",
  "npconvert_exporter": "python",
  "pygments_lexer": "ipython3",
  "version": 3,
  "kernelspec": {
   "name": "python37764bitmotconda4be3f87998c94db3a7ae2468c45ced29",
   "display_name": "Python 3.7.7 64-bit ('mot': conda)"
  }
 },
 "cells": [
  {
   "cell_type": "code",
   "execution_count": 2,
   "metadata": {},
   "outputs": [],
   "source": [
    "import json\n",
    "import matplotlib.pyplot as plt\n",
    "import cv2\n",
    "import os\n",
    "import torch\n",
    "import numpy as np\n",
    "import fnmatch\n",
    "import shutil\n",
    "import glob\n",
    "from scipy.io import loadmat"
   ]
  },
  {
   "cell_type": "code",
   "execution_count": null,
   "metadata": {},
   "outputs": [],
   "source": []
  },
  {
   "cell_type": "code",
   "execution_count": null,
   "metadata": {},
   "outputs": [],
   "source": [
    "def xyxy2xywh(x):\n",
    "    # Convert bounding box format from [x1, y1, x2, y2] to [x, y, w, h]\n",
    "    # x, y are coordinates of center \n",
    "    # (x1, y1) and (x2, y2) are coordinates of bottom left and top right respectively. \n",
    "    y = torch.zeros_like(x) if x.dtype is torch.float32 else np.zeros_like(x)\n",
    "    y[:, 0] = (x[:, 0] + x[:, 2]) / 2  # x center\n",
    "    y[:, 1] = (x[:, 1] + x[:, 3]) / 2  # y center\n",
    "    y[:, 2] = x[:, 2] - x[:, 0]  # width\n",
    "    y[:, 3] = x[:, 3] - x[:, 1]  # height\n",
    "    return y\n",
    "\n",
    ""
   ]
  },
  {
   "cell_type": "code",
   "execution_count": null,
   "metadata": {},
   "outputs": [],
   "source": [
    "## citypersons\n",
    "\n",
    "path = './dataset/citypersons/labels/'\n",
    "for i in os.listdir(path):\n",
    "    for j in os.listdir(path+'/'+i):\n",
    "        to_path = (path+'/'+i+'/'+j).replace('labels','images')\n",
    "        if not os.path.exists(to_path):\n",
    "            os.makedirs(to_path)\n",
    "\n",
    "for i in os.listdir(path):\n",
    "    for j in os.listdir(path+'/'+i):\n",
    "        for n,k in enumerate(os.listdir(path+'/'+i+'/'+j)):\n",
    "            json_path = (path+'/'+i+'/'+j+'/'+k)\n",
    "            f = open(json_path, encoding='utf-8')\n",
    "            data = json.load(f)\n",
    "            txt_path = (path+'/'+i+'/'+j+'/'+k).replace('_gtBboxCityPersons.json','.txt').replace('labels','images')\n",
    "            with open(txt_path, 'w+') as file:\n",
    "                for obj in data['objects']:\n",
    "                    if obj['instanceId']!=0:\n",
    "                        bbox = obj['bbox'].copy()\n",
    "                        bbox[0] = bbox[0] + bbox[2]/2\n",
    "                        bbox[1] = bbox[1] + bbox[3]/2\n",
    "                        file.write(str(n)+',-1,'+','.join(str(x) for x in bbox)+'\\n')\n",
    "                        # print(str(n)+',-1,'+','.join(str(x) for x in bbox))\n",
    "            f.close()"
   ]
  },
  {
   "cell_type": "code",
   "execution_count": 13,
   "metadata": {
    "tags": [
     "outputPrepend",
     "outputPrepend",
     "outputPrepend",
     "outputPrepend",
     "outputPrepend",
     "outputPrepend",
     "outputPrepend",
     "outputPrepend",
     "outputPrepend"
    ]
   },
   "outputs": [],
   "source": [
    "## ETHZ\n",
    "\n",
    "path = './dataset/ETH/images/'\n",
    "for i in os.listdir(path):\n",
    "    txt_path = path.replace('images', 'labels_with_ids')+i\n",
    "    if not os.path.exists(txt_path):\n",
    "        os.makedirs(txt_path)\n",
    "    \n",
    "path = './dataset/ETH/label/'\n",
    "for i in os.listdir(path):\n",
    "    txt_path = path+i\n",
    "    folder_path = txt_path.replace('label', 'images').rstrip('.txt')\n",
    "    with open(txt_path, 'r') as src:\n",
    "        label_files = src.readlines()\n",
    "        for n, label_file in enumerate(label_files):\n",
    "            img_path = label_file[1:26].strip('left')\n",
    "            cur_path = (folder_path + img_path).replace('.png', '.txt').replace('images', 'labels_with_ids')\n",
    "            if len(label_file)>29:\n",
    "                bboxs = label_file[29:].replace(');\\n', ')').split('), (')\n",
    "                bboxs = [bbox.strip('(').strip(')') for bbox in bboxs]\n",
    "                bboxs = [bbox.split(', ') for bbox in bboxs]\n",
    "                bboxs = np.array(bboxs, dtype=np.int64)\n",
    "                _bbox_ = bboxs.copy()\n",
    "                bboxs[:,0] = (_bbox_[:,2]+_bbox_[:,0])/2\n",
    "                bboxs[:,1] = (_bbox_[:,3]+_bbox_[:,1])/2\n",
    "                bboxs[:,2] = np.abs(_bbox_[:,2]-_bbox_[:,0])\n",
    "                bboxs[:,3] = np.abs(_bbox_[:,3]-_bbox_[:,1])\n",
    "                label = np.zeros((bboxs.shape[0],2))\n",
    "                label[:,0] = n\n",
    "                label[:,1] = -1\n",
    "                label = np.concatenate((label, bboxs), axis=1)\n",
    "                np.savetxt(cur_path, label, fmt='%d', delimiter=',')\n",
    "            else:\n",
    "                dst = open(cur_path, 'w+')\n",
    "                dst.close()\n",
    "\n",
    "    \n",
    "\n",
    ""
   ]
  },
  {
   "cell_type": "code",
   "execution_count": 7,
   "metadata": {},
   "outputs": [
    {
     "output_type": "execute_result",
     "data": {
      "text/plain": "array([[ 0.47680461, -0.11667414,  0.07473786,  0.24577711],\n       [ 0.1738679 ,  1.13729846,  0.65011279,  0.54732884],\n       [ 0.57958502, -1.96380267, -0.09778474, -1.39133935]])"
     },
     "metadata": {},
     "execution_count": 7
    }
   ],
   "source": [
    "bbox = np.random.randn(3,4)\n",
    "bbox"
   ]
  },
  {
   "cell_type": "code",
   "execution_count": 8,
   "metadata": {},
   "outputs": [
    {
     "output_type": "execute_result",
     "data": {
      "text/plain": "array([[ 0.07473786, -0.11667414,  0.40206675,  0.36245125],\n       [ 0.1738679 ,  0.54732884,  0.47624489,  0.58996961],\n       [-0.09778474, -1.96380267,  0.67736976,  0.57246333]])"
     },
     "metadata": {},
     "execution_count": 8
    }
   ],
   "source": [
    "_bbox_ = bbox.copy()\n",
    "bbox[:,0] = np.min(_bbox_[:,[0,2]], axis=1)\n",
    "bbox[:,1] = np.min(_bbox_[:,[1,3]], axis=1)\n",
    "bbox[:,2] = np.abs(_bbox_[:,2]-_bbox_[:,0])\n",
    "bbox[:,3] = np.abs(_bbox_[:,3]-_bbox_[:,1])\n",
    "bbox"
   ]
  },
  {
   "cell_type": "code",
   "execution_count": null,
   "metadata": {},
   "outputs": [],
   "source": [
    "path = './dataset/ETH/images/Linthescher/'\n",
    "for f in os.listdir(path):\n",
    "    label = np.loadtxt(path+f, delimiter=',')\n",
    "    if len(label) < 1:\n",
    "        os.remove(path+f)"
   ]
  },
  {
   "cell_type": "code",
   "execution_count": null,
   "metadata": {},
   "outputs": [],
   "source": [
    "## CalTech images\n",
    "rootdirs = os.listdir(\".\")\n",
    "print(rootdirs)\n",
    "# walk in the rootdir, take down the .seq filename and filepath\n",
    "for rootdir in rootdirs:\n",
    "    for parent, dirnames, filenames in os.walk(rootdir):\n",
    "        for filename in filenames:\n",
    "            # check .seq file with suffix\n",
    "            if fnmatch.fnmatch(filename,'*.seq'):\n",
    "                # take down the filename with path of .seq file\n",
    "                thefilename = os.path.join(parent, filename)\n",
    "                # create the image folder by combining .seq file path with .seq filename\n",
    "                thesavepath = (parent+'/'+filename.split('.')[0]).replace('CT','CalTech')\n",
    "                print(\"Filename=\" + thefilename)\n",
    "                print(\"Savepath=\" + thesavepath)\n",
    "                if not os.path.exists(thesavepath):\n",
    "                    os.makedirs(thesavepath)\n",
    "                vc = cv2.VideoCapture(thefilename)\n",
    "                retval, frame = vc.read()\n",
    "                i=0\n",
    "                while (retval):\n",
    "                    if (i%10==0):\n",
    "                        cv2.imwrite(thesavepath+'/'+str(int(i/10)).rjust(6,'0')+'.jpg', frame)\n",
    "                    retval, frame = vc.read()\n",
    "                    i = i + 1\n"
   ]
  },
  {
   "cell_type": "code",
   "execution_count": null,
   "metadata": {
    "tags": [
     "outputPrepend",
     "outputPrepend",
     "outputPrepend",
     "outputPrepend",
     "outputPrepend",
     "outputPrepend",
     "outputPrepend",
     "outputPrepend",
     "outputPrepend",
     "outputPrepend",
     "outputPrepend",
     "outputPrepend",
     "outputPrepend",
     "outputPrepend",
     "outputPrepend",
     "outputPrepend",
     "outputPrepend",
     "outputPrepend",
     "outputPrepend"
    ]
   },
   "outputs": [],
   "source": [
    "def renameFile(rootDir,filetype):\n",
    "    for dir_or_file in os.listdir(rootDir):\n",
    "        filePath = os.path.join(rootDir, dir_or_file)\n",
    "        if os.path.isfile(filePath):\n",
    "            if os.path.basename(filePath).endswith(filetype):\n",
    "                # print('imgBox fileName is '+ filePath)\n",
    "                basename = os.path.basename(filePath)\n",
    "                tofilePath = filePath.rstrip(basename) + basename.rstrip(filetype).rjust(6,'0')+filetype\n",
    "                os.rename(filePath, tofilePath)\n",
    "            else:\n",
    "                continue\n",
    "        elif os.path.isdir(filePath):\n",
    "            renameFile(filePath,filetype)\n",
    "        else:print('not file and dir '+os.path.basename(filePath))\n",
    "renameFile('./dataset/CUHK', '.jpg')"
   ]
  },
  {
   "cell_type": "code",
   "execution_count": null,
   "metadata": {},
   "outputs": [],
   "source": [
    "## CalTech labels\n",
    "\n",
    "all_obj = 0\n",
    "label_path = './dataset/CalTech/images/'\n",
    "for dname in sorted(glob.glob('./dataset/CT/annotations/set*')):\n",
    "    set_name = os.path.basename(dname)\n",
    "    for anno_fn in sorted(glob.glob('{}/*.vbb'.format(dname))):\n",
    "        vbb = loadmat(anno_fn)\n",
    "        objLists = vbb['A'][0][0][1][0]\n",
    "        maxObj = int(vbb['A'][0][0][2][0][0])\n",
    "        video_name = os.path.splitext(os.path.basename(anno_fn))[0]\n",
    "        current_path = label_path+set_name+'/'+video_name\n",
    "        n_obj = 0\n",
    "        if not os.path.exists(current_path):\n",
    "            os.makedirs(current_path)\n",
    "        for frame_id, obj in enumerate(objLists):\n",
    "            if frame_id%10==0:\n",
    "                frame_id = int(frame_id / 10)\n",
    "                with open(current_path+'/'+str(frame_id).rjust(6,'0')+'.txt', 'w+') as dst:\n",
    "                    if len(obj) > 0:\n",
    "                        for id, pos in zip(\n",
    "                                obj['id'][0], obj['pos'][0]):\n",
    "                            id = int(id[0][0]) - 1  # MATLAB is 1-origin\n",
    "                            pos = pos[0].tolist()\n",
    "                            pos[0] = pos[0] + pos[2]/2\n",
    "                            pos[1] = pos[1] + pos[3]/2\n",
    "                            dst.write(str(frame_id)+','+str(id)+','+','.join(str(x) for x in pos)+'\\n')\n",
    "                            # print(str(frame_id)+','+str(id)+','+','.join(str(x) for x in pos))\n",
    "                            n_obj += 1\n",
    "\n",
    "        print(dname, anno_fn, n_obj)\n",
    "        all_obj += n_obj\n",
    "\n",
    "print('Number of objects:', all_obj)"
   ]
  },
  {
   "cell_type": "code",
   "execution_count": null,
   "metadata": {},
   "outputs": [],
   "source": [
    "## MOT16\n",
    "\n",
    "rootdir = './dataset/MOT16/train/'\n",
    "for path in os.listdir(rootdir):\n",
    "    path = rootdir+path\n",
    "    gt = np.loadtxt(path+'/gt/gt.txt', dtype=int, delimiter=',', usecols=(0,1,2,3,4,5,6,7))\n",
    "    gt = gt[np.argsort(gt[:,0])]\n",
    "    gt = gt[gt[:,7]==1]\n",
    "    # print(gt.shape)\n",
    "    label = gt[:,1]\n",
    "    for i,id in enumerate(np.unique(label)):\n",
    "        label[label==id] = i\n",
    "    gt[:,1] = label\n",
    "    num_frames = np.unique(gt[:,0]).shape[0]\n",
    "    current_path = path+'/images/'\n",
    "    if not os.path.exists(current_path):\n",
    "        os.makedirs(current_path)\n",
    "    for i in range(num_frames):\n",
    "        src = gt[gt[:,0]==i+1][:,0:6]\n",
    "        src[:,2] = src[:,2] + src[:,4]/2\n",
    "        src[:,3] = src[:,3] + src[:,5]/2\n",
    "        np.savetxt(current_path+str(i+1).rjust(6,'0')+'.txt', src, fmt='%d', delimiter=',')\n",
    ""
   ]
  },
  {
   "cell_type": "code",
   "execution_count": null,
   "metadata": {},
   "outputs": [],
   "source": [
    "## CUHK images\n",
    "rootdir = './dataset/CUHK/seq/'\n",
    "filenames = os.listdir(rootdir)\n",
    "for filename in filenames:\n",
    "    thefilename = rootdir + filename\n",
    "    # create the image folder by combining .seq file path with .seq filename\n",
    "    thesavepath = thefilename.replace('/seq/', '/images/').rstrip('.seq')\n",
    "    print(\"Filename=\" + thefilename)\n",
    "    print(\"Savepath=\" + thesavepath)\n",
    "    if not os.path.exists(thesavepath):\n",
    "        os.makedirs(thesavepath)\n",
    "    vc = cv2.VideoCapture(thefilename)\n",
    "    retval, frame = vc.read()\n",
    "    i=0\n",
    "    while (retval):\n",
    "        cv2.imwrite(thesavepath+'/'+str(int(i))+'.jpg', frame)\n",
    "        retval, frame = vc.read()\n",
    "        i = i + 1"
   ]
  },
  {
   "cell_type": "code",
   "execution_count": null,
   "metadata": {},
   "outputs": [],
   "source": [
    "## CUHK labels\n",
    "\n",
    "all_obj = 0\n",
    "label_path = './dataset/CUHK/images/'\n",
    "for anno_fn in os.listdir('./dataset/CUHK/gt/'):\n",
    "    vbb = loadmat('./dataset/CUHK/gt/'+anno_fn)\n",
    "    objLists = vbb['A'][0][0][1][0]\n",
    "    maxObj = int(vbb['A'][0][0][2][0][0])\n",
    "    current_path = label_path+anno_fn.rstrip('.vbb')\n",
    "    n_obj = 0\n",
    "    if not os.path.exists(current_path):\n",
    "        os.makedirs(current_path)\n",
    "    for frame_id, obj in enumerate(objLists):\n",
    "        with open(current_path+'/'+str(frame_id)+'.txt', 'w+') as dst:\n",
    "            if len(obj) > 0:\n",
    "                for id, pos in zip(\n",
    "                        obj['id'][0], obj['pos'][0]):\n",
    "                    id = int(id[0][0]) - 1  # MATLAB is 1-origin\n",
    "                    pos = pos[0].tolist()\n",
    "                    pos[0] = pos[0] + pos[2]/2\n",
    "                    pos[1] = pos[1] + pos[3]/2\n",
    "                    dst.write(str(frame_id)+','+str(id)+','+','.join(str(x) for x in pos)+'\\n')\n",
    "                    # print(str(frame_id)+','+str(id)+','+','.join(str(x) for x in pos))\n",
    "                    n_obj += 1\n",
    "\n",
    "    all_obj += n_obj\n",
    "\n",
    "print('Number of objects:', all_obj)"
   ]
  },
  {
   "cell_type": "code",
   "execution_count": null,
   "metadata": {},
   "outputs": [],
   "source": [
    "# PRW\n",
    "\n",
    "src = '/mnt/d/Study/graduation_project/dataset/PRW/annotations/'\n",
    "dst = './dataset/PRW/images/'\n",
    "if not os.path.exists(dst):\n",
    "    os.makedirs(dst)\n",
    "for i,basename in enumerate(os.listdir(src)):\n",
    "    mat = loadmat(src+basename)\n",
    "    try:\n",
    "        label = mat['box_new']\n",
    "    except:\n",
    "        try:\n",
    "            label = mat['anno_file']\n",
    "        except:\n",
    "            label = mat['anno_previous']\n",
    "    frame_id = np.ones((label.shape[0],1))*(i+1)\n",
    "    label = np.concatenate((frame_id, label), axis=1)\n",
    "    label[:,1] = label[:,1] - 1\n",
    "    label[:,2] = label[:,2] + label[:,4]/2\n",
    "    label[:,3] = label[:,3] + label[:,5]/2\n",
    "    label[label==-3] = -1\n",
    "    save_path = dst + basename.replace('.jpg.mat', '.txt')\n",
    "    np.savetxt(save_path, label, fmt='%f', delimiter=',')"
   ]
  },
  {
   "cell_type": "code",
   "execution_count": null,
   "metadata": {},
   "outputs": [],
   "source": [
    "## check id\n",
    "path = './data/PRW.txt'\n",
    "with open(path, 'r') as file:\n",
    "    img_files = file.readlines()\n",
    "    img_files = [x.replace('\\n', '') for x in img_files]\n",
    "    img_files = list(filter(lambda x: len(x) > 0, img_files))\n",
    "\n",
    "label_files = [x.replace('images', 'images').replace('.png', '.txt').replace('.jpg', '.txt')\n",
    "                    for x in img_files]\n",
    "\n",
    "ids = []\n",
    "for lp in label_files:\n",
    "    lb = np.loadtxt(lp, delimiter=',')\n",
    "    if len(lb) < 1:\n",
    "        continue\n",
    "    if len(lb.shape) < 2:\n",
    "        ids.append(lb[1])\n",
    "    else:\n",
    "        ids = ids + list(lb[:,1])\n",
    "\n",
    "set(ids)\n",
    "\n",
    ""
   ]
  },
  {
   "cell_type": "code",
   "execution_count": 12,
   "metadata": {},
   "outputs": [],
   "source": [
    "## delete images without bboxs\n",
    "path = './data/cp_train.txt'\n",
    "root = '../'\n",
    "to = path.replace('data','data1')\n",
    "with open(path, 'r') as file:\n",
    "    img_files = file.readlines()\n",
    "    img_files = [x.replace('\\n', '') for x in img_files]\n",
    "    img_files = list(filter(lambda x: len(x) > 0, img_files))\n",
    "label_files = [x.replace('images', 'images').replace('.png', '.txt').replace('.jpg', '.txt')\n",
    "                    for x in img_files]\n",
    "with open(to ,'w+') as file:\n",
    "    for label_path in label_files:\n",
    "        labels = np.loadtxt(root+label_path, delimiter=',', dtype=np.float32)\n",
    "        if labels.shape[0]>0:\n",
    "            file.write(label_path+'\\n')"
   ]
  },
  {
   "cell_type": "code",
   "execution_count": null,
   "metadata": {},
   "outputs": [],
   "source": [
    "a = np.ones((4,3))\n",
    "a[:,1] = -2\n",
    "a"
   ]
  },
  {
   "cell_type": "code",
   "execution_count": null,
   "metadata": {},
   "outputs": [],
   "source": [
    "label"
   ]
  },
  {
   "cell_type": "code",
   "execution_count": null,
   "metadata": {},
   "outputs": [],
   "source": []
  }
 ]
}