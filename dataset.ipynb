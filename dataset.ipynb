{
 "nbformat": 4,
 "nbformat_minor": 2,
 "metadata": {
  "language_info": {
   "name": "python",
   "codemirror_mode": {
    "name": "ipython",
    "version": 3
   },
   "version": "3.7.7-final"
  },
  "orig_nbformat": 2,
  "file_extension": ".py",
  "mimetype": "text/x-python",
  "name": "python",
  "npconvert_exporter": "python",
  "pygments_lexer": "ipython3",
  "version": 3,
  "kernelspec": {
   "name": "python37764bitmotconda4be3f87998c94db3a7ae2468c45ced29",
   "display_name": "Python 3.7.7 64-bit ('mot': conda)"
  }
 },
 "cells": [
  {
   "cell_type": "code",
   "execution_count": 1,
   "metadata": {},
   "outputs": [],
   "source": [
    "import json\n",
    "import matplotlib.pyplot as plt\n",
    "import cv2\n",
    "import os\n",
    "import torch\n",
    "import numpy as np\n",
    "import fnmatch\n",
    "import shutil\n",
    "import glob\n",
    "from scipy.io import loadmat\n",
    ""
   ]
  },
  {
   "cell_type": "code",
   "execution_count": null,
   "metadata": {},
   "outputs": [],
   "source": []
  },
  {
   "cell_type": "code",
   "execution_count": 15,
   "metadata": {},
   "outputs": [],
   "source": [
    "def xyxy2xywh(x):\n",
    "    # Convert bounding box format from [x1, y1, x2, y2] to [x, y, w, h]\n",
    "    # x, y are coordinates of center \n",
    "    # (x1, y1) and (x2, y2) are coordinates of bottom left and top right respectively. \n",
    "    y = torch.zeros_like(x) if x.dtype is torch.float32 else np.zeros_like(x)\n",
    "    y[:, 0] = (x[:, 0] + x[:, 2]) / 2  # x center\n",
    "    y[:, 1] = (x[:, 1] + x[:, 3]) / 2  # y center\n",
    "    y[:, 2] = x[:, 2] - x[:, 0]  # width\n",
    "    y[:, 3] = x[:, 3] - x[:, 1]  # height\n",
    "    return y\n",
    "\n",
    ""
   ]
  },
  {
   "cell_type": "code",
   "execution_count": 4,
   "metadata": {},
   "outputs": [],
   "source": [
    "## citypersons\n",
    "\n",
    "path = './dataset/citypersons/labels/'\n",
    "for i in os.listdir(path):\n",
    "    for j in os.listdir(path+'/'+i):\n",
    "        to_path = (path+'/'+i+'/'+j).replace('labels','labels_with_ids')\n",
    "        if not os.path.exists(to_path):\n",
    "            os.makedirs(to_path)\n",
    "\n",
    "for i in os.listdir(path):\n",
    "    for j in os.listdir(path+'/'+i):\n",
    "        for n,k in enumerate(os.listdir(path+'/'+i+'/'+j)):\n",
    "            json_path = (path+'/'+i+'/'+j+'/'+k)\n",
    "            f = open(json_path, encoding='utf-8')\n",
    "            data = json.load(f)\n",
    "            txt_path = (path+'/'+i+'/'+j+'/'+k).replace('_gtBboxCityPersons.json','.txt').replace('labels','labels_with_ids')\n",
    "            with open(txt_path, 'w+') as file:\n",
    "                for obj in data['objects']:\n",
    "                    if obj['instanceId']!=0:\n",
    "                        bbox = obj['bbox'].copy()\n",
    "                        bbox[0] = bbox[0] + bbox[2]/2\n",
    "                        bbox[1] = bbox[1] + bbox[3]/2\n",
    "                        file.write(str(n)+',-1,'+','.join(str(x) for x in bbox)+'\\n')\n",
    "                        # print(str(n)+',-1,'+','.join(str(x) for x in bbox))\n",
    "            f.close()"
   ]
  },
  {
   "cell_type": "code",
   "execution_count": 45,
   "metadata": {
    "tags": [
     "outputPrepend",
     "outputPrepend",
     "outputPrepend",
     "outputPrepend",
     "outputPrepend",
     "outputPrepend",
     "outputPrepend",
     "outputPrepend",
     "outputPrepend"
    ]
   },
   "outputs": [],
   "source": [
    "## ETHZ\n",
    "\n",
    "path = './dataset/ETH/images/'\n",
    "for i in os.listdir(path):\n",
    "    txt_path = path.replace('images', 'labels_with_ids')+i\n",
    "    if not os.path.exists(txt_path):\n",
    "        os.makedirs(txt_path)\n",
    "    \n",
    "path = './dataset/ETH/label/'\n",
    "for i in os.listdir(path):\n",
    "    txt_path = path+i\n",
    "    folder_path = txt_path.replace('label', 'labels_with_ids').rstrip('.txt')\n",
    "    with open(txt_path, 'r') as src:\n",
    "        label_files = src.readlines()\n",
    "        for n, label_file in enumerate(label_files):\n",
    "            img_path = label_file[1:26].strip('left')\n",
    "            cur_path = (folder_path + img_path).replace('.png', '.txt')\n",
    "            if len(label_file)>29:\n",
    "                bboxs = label_file[29:].replace(');\\n', ')').split('), (')\n",
    "                bboxs = [bbox.strip('(').strip(')') for bbox in bboxs]\n",
    "                bboxs = [bbox.split(', ') for bbox in bboxs]\n",
    "                bboxs = np.array(bboxs, dtype=np.int64)\n",
    "                bboxs = xyxy2xywh(bboxs)\n",
    "                label = np.zeros((bboxs.shape[0],2))\n",
    "                label[:,0] = n\n",
    "                label[:,1] = -1\n",
    "                label = np.concatenate((label, bboxs), axis=1)\n",
    "                np.savetxt(cur_path, label, fmt='%d', delimiter=',')\n",
    "            else:\n",
    "                dst = open(cur_path, 'w+')\n",
    "                dst.close()\n",
    "\n",
    "    \n",
    "\n",
    ""
   ]
  },
  {
   "cell_type": "code",
   "execution_count": 4,
   "metadata": {},
   "outputs": [],
   "source": [
    "path = './dataset/ETH/labels_with_ids/Linthescher/'\n",
    "for f in os.listdir(path):\n",
    "    label = np.loadtxt(path+f, delimiter=',')\n",
    "    if len(label) < 1:\n",
    "        os.remove(path+f)"
   ]
  },
  {
   "cell_type": "code",
   "execution_count": 6,
   "metadata": {},
   "outputs": [
    {
     "output_type": "stream",
     "name": "stdout",
     "text": "['__pycache__', 'data', 'dataset', 'dataset.ipynb', 'jde_rcnn.py', 'loaddataset.ipynb', 'model.ipynb', 'rename', 'test.py', 'utils']\nFilename=dataset/CT/set00/V000.seq\nSavepath=dataset/CalTech/set00/V000\nFilename=dataset/CT/set00/V001.seq\nSavepath=dataset/CalTech/set00/V001\nFilename=dataset/CT/set00/V002.seq\nSavepath=dataset/CalTech/set00/V002\nFilename=dataset/CT/set00/V003.seq\nSavepath=dataset/CalTech/set00/V003\nFilename=dataset/CT/set00/V004.seq\nSavepath=dataset/CalTech/set00/V004\nFilename=dataset/CT/set00/V005.seq\nSavepath=dataset/CalTech/set00/V005\nFilename=dataset/CT/set00/V006.seq\nSavepath=dataset/CalTech/set00/V006\nFilename=dataset/CT/set00/V007.seq\nSavepath=dataset/CalTech/set00/V007\nFilename=dataset/CT/set00/V008.seq\nSavepath=dataset/CalTech/set00/V008\nFilename=dataset/CT/set00/V009.seq\nSavepath=dataset/CalTech/set00/V009\nFilename=dataset/CT/set00/V010.seq\nSavepath=dataset/CalTech/set00/V010\nFilename=dataset/CT/set00/V011.seq\nSavepath=dataset/CalTech/set00/V011\nFilename=dataset/CT/set00/V012.seq\nSavepath=dataset/CalTech/set00/V012\nFilename=dataset/CT/set00/V013.seq\nSavepath=dataset/CalTech/set00/V013\nFilename=dataset/CT/set00/V014.seq\nSavepath=dataset/CalTech/set00/V014\nFilename=dataset/CT/set01/V000.seq\nSavepath=dataset/CalTech/set01/V000\nFilename=dataset/CT/set01/V001.seq\nSavepath=dataset/CalTech/set01/V001\nFilename=dataset/CT/set01/V002.seq\nSavepath=dataset/CalTech/set01/V002\nFilename=dataset/CT/set01/V003.seq\nSavepath=dataset/CalTech/set01/V003\nFilename=dataset/CT/set01/V004.seq\nSavepath=dataset/CalTech/set01/V004\nFilename=dataset/CT/set01/V005.seq\nSavepath=dataset/CalTech/set01/V005\nFilename=dataset/CT/set02/V000.seq\nSavepath=dataset/CalTech/set02/V000\nFilename=dataset/CT/set02/V001.seq\nSavepath=dataset/CalTech/set02/V001\nFilename=dataset/CT/set02/V002.seq\nSavepath=dataset/CalTech/set02/V002\nFilename=dataset/CT/set02/V003.seq\nSavepath=dataset/CalTech/set02/V003\nFilename=dataset/CT/set02/V004.seq\nSavepath=dataset/CalTech/set02/V004\nFilename=dataset/CT/set02/V005.seq\nSavepath=dataset/CalTech/set02/V005\nFilename=dataset/CT/set02/V006.seq\nSavepath=dataset/CalTech/set02/V006\nFilename=dataset/CT/set02/V007.seq\nSavepath=dataset/CalTech/set02/V007\nFilename=dataset/CT/set02/V008.seq\nSavepath=dataset/CalTech/set02/V008\nFilename=dataset/CT/set02/V009.seq\nSavepath=dataset/CalTech/set02/V009\nFilename=dataset/CT/set02/V010.seq\nSavepath=dataset/CalTech/set02/V010\nFilename=dataset/CT/set02/V011.seq\nSavepath=dataset/CalTech/set02/V011\nFilename=dataset/CT/set03/V000.seq\nSavepath=dataset/CalTech/set03/V000\nFilename=dataset/CT/set03/V001.seq\nSavepath=dataset/CalTech/set03/V001\nFilename=dataset/CT/set03/V002.seq\nSavepath=dataset/CalTech/set03/V002\nFilename=dataset/CT/set03/V003.seq\nSavepath=dataset/CalTech/set03/V003\nFilename=dataset/CT/set03/V004.seq\nSavepath=dataset/CalTech/set03/V004\nFilename=dataset/CT/set03/V005.seq\nSavepath=dataset/CalTech/set03/V005\nFilename=dataset/CT/set03/V006.seq\nSavepath=dataset/CalTech/set03/V006\nFilename=dataset/CT/set03/V007.seq\nSavepath=dataset/CalTech/set03/V007\nFilename=dataset/CT/set03/V008.seq\nSavepath=dataset/CalTech/set03/V008\nFilename=dataset/CT/set03/V009.seq\nSavepath=dataset/CalTech/set03/V009\nFilename=dataset/CT/set03/V010.seq\nSavepath=dataset/CalTech/set03/V010\nFilename=dataset/CT/set03/V011.seq\nSavepath=dataset/CalTech/set03/V011\nFilename=dataset/CT/set03/V012.seq\nSavepath=dataset/CalTech/set03/V012\nFilename=dataset/CT/set04/V000.seq\nSavepath=dataset/CalTech/set04/V000\nFilename=dataset/CT/set04/V001.seq\nSavepath=dataset/CalTech/set04/V001\nFilename=dataset/CT/set04/V002.seq\nSavepath=dataset/CalTech/set04/V002\nFilename=dataset/CT/set04/V003.seq\nSavepath=dataset/CalTech/set04/V003\nFilename=dataset/CT/set04/V004.seq\nSavepath=dataset/CalTech/set04/V004\nFilename=dataset/CT/set04/V005.seq\nSavepath=dataset/CalTech/set04/V005\nFilename=dataset/CT/set04/V006.seq\nSavepath=dataset/CalTech/set04/V006\nFilename=dataset/CT/set04/V007.seq\nSavepath=dataset/CalTech/set04/V007\nFilename=dataset/CT/set04/V008.seq\nSavepath=dataset/CalTech/set04/V008\nFilename=dataset/CT/set04/V009.seq\nSavepath=dataset/CalTech/set04/V009\nFilename=dataset/CT/set04/V010.seq\nSavepath=dataset/CalTech/set04/V010\nFilename=dataset/CT/set04/V011.seq\nSavepath=dataset/CalTech/set04/V011\nFilename=dataset/CT/set05/V000.seq\nSavepath=dataset/CalTech/set05/V000\nFilename=dataset/CT/set05/V001.seq\nSavepath=dataset/CalTech/set05/V001\nFilename=dataset/CT/set05/V002.seq\nSavepath=dataset/CalTech/set05/V002\nFilename=dataset/CT/set05/V003.seq\nSavepath=dataset/CalTech/set05/V003\nFilename=dataset/CT/set05/V004.seq\nSavepath=dataset/CalTech/set05/V004\nFilename=dataset/CT/set05/V005.seq\nSavepath=dataset/CalTech/set05/V005\nFilename=dataset/CT/set05/V006.seq\nSavepath=dataset/CalTech/set05/V006\nFilename=dataset/CT/set05/V007.seq\nSavepath=dataset/CalTech/set05/V007\nFilename=dataset/CT/set05/V008.seq\nSavepath=dataset/CalTech/set05/V008\nFilename=dataset/CT/set05/V009.seq\nSavepath=dataset/CalTech/set05/V009\nFilename=dataset/CT/set05/V010.seq\nSavepath=dataset/CalTech/set05/V010\nFilename=dataset/CT/set05/V011.seq\nSavepath=dataset/CalTech/set05/V011\nFilename=dataset/CT/set05/V012.seq\nSavepath=dataset/CalTech/set05/V012\nFilename=dataset/CT/set06/V000.seq\nSavepath=dataset/CalTech/set06/V000\nFilename=dataset/CT/set06/V001.seq\nSavepath=dataset/CalTech/set06/V001\nFilename=dataset/CT/set06/V002.seq\nSavepath=dataset/CalTech/set06/V002\nFilename=dataset/CT/set06/V003.seq\nSavepath=dataset/CalTech/set06/V003\nFilename=dataset/CT/set06/V004.seq\nSavepath=dataset/CalTech/set06/V004\nFilename=dataset/CT/set06/V005.seq\nSavepath=dataset/CalTech/set06/V005\nFilename=dataset/CT/set06/V006.seq\nSavepath=dataset/CalTech/set06/V006\nFilename=dataset/CT/set06/V007.seq\nSavepath=dataset/CalTech/set06/V007\nFilename=dataset/CT/set06/V008.seq\nSavepath=dataset/CalTech/set06/V008\nFilename=dataset/CT/set06/V009.seq\nSavepath=dataset/CalTech/set06/V009\nFilename=dataset/CT/set06/V010.seq\nSavepath=dataset/CalTech/set06/V010\nFilename=dataset/CT/set06/V011.seq\nSavepath=dataset/CalTech/set06/V011\nFilename=dataset/CT/set06/V012.seq\nSavepath=dataset/CalTech/set06/V012\nFilename=dataset/CT/set06/V013.seq\nSavepath=dataset/CalTech/set06/V013\nFilename=dataset/CT/set06/V014.seq\nSavepath=dataset/CalTech/set06/V014\nFilename=dataset/CT/set06/V015.seq\nSavepath=dataset/CalTech/set06/V015\nFilename=dataset/CT/set06/V016.seq\nSavepath=dataset/CalTech/set06/V016\nFilename=dataset/CT/set06/V017.seq\nSavepath=dataset/CalTech/set06/V017\nFilename=dataset/CT/set06/V018.seq\nSavepath=dataset/CalTech/set06/V018\nFilename=dataset/CT/set07/V000.seq\nSavepath=dataset/CalTech/set07/V000\nFilename=dataset/CT/set07/V001.seq\nSavepath=dataset/CalTech/set07/V001\nFilename=dataset/CT/set07/V002.seq\nSavepath=dataset/CalTech/set07/V002\nFilename=dataset/CT/set07/V003.seq\nSavepath=dataset/CalTech/set07/V003\nFilename=dataset/CT/set07/V004.seq\nSavepath=dataset/CalTech/set07/V004\nFilename=dataset/CT/set07/V005.seq\nSavepath=dataset/CalTech/set07/V005\nFilename=dataset/CT/set07/V006.seq\nSavepath=dataset/CalTech/set07/V006\nFilename=dataset/CT/set07/V007.seq\nSavepath=dataset/CalTech/set07/V007\nFilename=dataset/CT/set07/V008.seq\nSavepath=dataset/CalTech/set07/V008\nFilename=dataset/CT/set07/V009.seq\nSavepath=dataset/CalTech/set07/V009\nFilename=dataset/CT/set07/V010.seq\nSavepath=dataset/CalTech/set07/V010\nFilename=dataset/CT/set07/V011.seq\nSavepath=dataset/CalTech/set07/V011\nFilename=dataset/CT/set08/V000.seq\nSavepath=dataset/CalTech/set08/V000\nFilename=dataset/CT/set08/V001.seq\nSavepath=dataset/CalTech/set08/V001\nFilename=dataset/CT/set08/V002.seq\nSavepath=dataset/CalTech/set08/V002\nFilename=dataset/CT/set08/V003.seq\nSavepath=dataset/CalTech/set08/V003\nFilename=dataset/CT/set08/V004.seq\nSavepath=dataset/CalTech/set08/V004\nFilename=dataset/CT/set08/V005.seq\nSavepath=dataset/CalTech/set08/V005\nFilename=dataset/CT/set08/V006.seq\nSavepath=dataset/CalTech/set08/V006\nFilename=dataset/CT/set08/V007.seq\nSavepath=dataset/CalTech/set08/V007\nFilename=dataset/CT/set08/V008.seq\nSavepath=dataset/CalTech/set08/V008\nFilename=dataset/CT/set08/V009.seq\nSavepath=dataset/CalTech/set08/V009\nFilename=dataset/CT/set08/V010.seq\nSavepath=dataset/CalTech/set08/V010\nFilename=dataset/CT/set09/V000.seq\nSavepath=dataset/CalTech/set09/V000\nFilename=dataset/CT/set09/V001.seq\nSavepath=dataset/CalTech/set09/V001\nFilename=dataset/CT/set09/V002.seq\nSavepath=dataset/CalTech/set09/V002\nFilename=dataset/CT/set09/V003.seq\nSavepath=dataset/CalTech/set09/V003\nFilename=dataset/CT/set09/V004.seq\nSavepath=dataset/CalTech/set09/V004\nFilename=dataset/CT/set09/V005.seq\nSavepath=dataset/CalTech/set09/V005\nFilename=dataset/CT/set09/V006.seq\nSavepath=dataset/CalTech/set09/V006\nFilename=dataset/CT/set09/V007.seq\nSavepath=dataset/CalTech/set09/V007\nFilename=dataset/CT/set09/V008.seq\nSavepath=dataset/CalTech/set09/V008\nFilename=dataset/CT/set09/V009.seq\nSavepath=dataset/CalTech/set09/V009\nFilename=dataset/CT/set09/V010.seq\nSavepath=dataset/CalTech/set09/V010\nFilename=dataset/CT/set09/V011.seq\nSavepath=dataset/CalTech/set09/V011\nFilename=dataset/CT/set10/V000.seq\nSavepath=dataset/CalTech/set10/V000\nFilename=dataset/CT/set10/V001.seq\nSavepath=dataset/CalTech/set10/V001\nFilename=dataset/CT/set10/V002.seq\nSavepath=dataset/CalTech/set10/V002\nFilename=dataset/CT/set10/V003.seq\nSavepath=dataset/CalTech/set10/V003\nFilename=dataset/CT/set10/V004.seq\nSavepath=dataset/CalTech/set10/V004\nFilename=dataset/CT/set10/V005.seq\nSavepath=dataset/CalTech/set10/V005\nFilename=dataset/CT/set10/V006.seq\nSavepath=dataset/CalTech/set10/V006\nFilename=dataset/CT/set10/V007.seq\nSavepath=dataset/CalTech/set10/V007\nFilename=dataset/CT/set10/V008.seq\nSavepath=dataset/CalTech/set10/V008\nFilename=dataset/CT/set10/V009.seq\nSavepath=dataset/CalTech/set10/V009\nFilename=dataset/CT/set10/V010.seq\nSavepath=dataset/CalTech/set10/V010\nFilename=dataset/CT/set10/V011.seq\nSavepath=dataset/CalTech/set10/V011\n"
    }
   ],
   "source": [
    "## CalTech images\n",
    "rootdirs = os.listdir(\".\")\n",
    "print(rootdirs)\n",
    "# walk in the rootdir, take down the .seq filename and filepath\n",
    "for rootdir in rootdirs:\n",
    "    for parent, dirnames, filenames in os.walk(rootdir):\n",
    "        for filename in filenames:\n",
    "            # check .seq file with suffix\n",
    "            if fnmatch.fnmatch(filename,'*.seq'):\n",
    "                # take down the filename with path of .seq file\n",
    "                thefilename = os.path.join(parent, filename)\n",
    "                # create the image folder by combining .seq file path with .seq filename\n",
    "                thesavepath = (parent+'/'+filename.split('.')[0]).replace('CT','CalTech')\n",
    "                print(\"Filename=\" + thefilename)\n",
    "                print(\"Savepath=\" + thesavepath)\n",
    "                if not os.path.exists(thesavepath):\n",
    "                    os.makedirs(thesavepath)\n",
    "                vc = cv2.VideoCapture(thefilename)\n",
    "                retval, frame = vc.read()\n",
    "                i=0\n",
    "                while (retval):\n",
    "                    if (i%10==0):\n",
    "                        cv2.imwrite(thesavepath+'/'+str(int(i/10)).rjust(6,'0')+'.jpg', frame)\n",
    "                    retval, frame = vc.read()\n",
    "                    i = i + 1\n"
   ]
  },
  {
   "cell_type": "code",
   "execution_count": 12,
   "metadata": {
    "tags": [
     "outputPrepend",
     "outputPrepend",
     "outputPrepend",
     "outputPrepend",
     "outputPrepend",
     "outputPrepend",
     "outputPrepend",
     "outputPrepend",
     "outputPrepend",
     "outputPrepend",
     "outputPrepend",
     "outputPrepend",
     "outputPrepend",
     "outputPrepend",
     "outputPrepend",
     "outputPrepend",
     "outputPrepend",
     "outputPrepend",
     "outputPrepend"
    ]
   },
   "outputs": [],
   "source": [
    "def renameFile(rootDir,filetype):\n",
    "    for dir_or_file in os.listdir(rootDir):\n",
    "        filePath = os.path.join(rootDir, dir_or_file)\n",
    "        if os.path.isfile(filePath):\n",
    "            if os.path.basename(filePath).endswith(filetype):\n",
    "                # print('imgBox fileName is '+ filePath)\n",
    "                basename = os.path.basename(filePath)\n",
    "                tofilePath = filePath.rstrip(basename) + basename.rstrip(filetype).rjust(6,'0')+filetype\n",
    "                os.rename(filePath, tofilePath)\n",
    "            else:\n",
    "                continue\n",
    "        elif os.path.isdir(filePath):\n",
    "            renameFile(filePath,filetype)\n",
    "        else:print('not file and dir '+os.path.basename(filePath))\n",
    "renameFile('./dataset/CUHK', '.jpg')"
   ]
  },
  {
   "cell_type": "code",
   "execution_count": null,
   "metadata": {},
   "outputs": [],
   "source": [
    "## CalTech labels\n",
    "\n",
    "all_obj = 0\n",
    "label_path = './dataset/CalTech/labels_with_ids/'\n",
    "for dname in sorted(glob.glob('./dataset/CT/annotations/set*')):\n",
    "    set_name = os.path.basename(dname)\n",
    "    for anno_fn in sorted(glob.glob('{}/*.vbb'.format(dname))):\n",
    "        vbb = loadmat(anno_fn)\n",
    "        objLists = vbb['A'][0][0][1][0]\n",
    "        maxObj = int(vbb['A'][0][0][2][0][0])\n",
    "        video_name = os.path.splitext(os.path.basename(anno_fn))[0]\n",
    "        current_path = label_path+set_name+'/'+video_name\n",
    "        n_obj = 0\n",
    "        if not os.path.exists(current_path):\n",
    "            os.makedirs(current_path)\n",
    "        for frame_id, obj in enumerate(objLists):\n",
    "            if frame_id%10==0:\n",
    "                frame_id = int(frame_id / 10)\n",
    "                with open(current_path+'/'+str(frame_id).rjust(6,'0')+'.txt', 'w+') as dst:\n",
    "                    if len(obj) > 0:\n",
    "                        for id, pos in zip(\n",
    "                                obj['id'][0], obj['pos'][0]):\n",
    "                            id = int(id[0][0]) - 1  # MATLAB is 1-origin\n",
    "                            pos = pos[0].tolist()\n",
    "                            pos[0] = pos[0] + pos[2]/2\n",
    "                            pos[1] = pos[1] + pos[3]/2\n",
    "                            dst.write(str(frame_id)+','+str(id)+','+','.join(str(x) for x in pos)+'\\n')\n",
    "                            # print(str(frame_id)+','+str(id)+','+','.join(str(x) for x in pos))\n",
    "                            n_obj += 1\n",
    "\n",
    "        print(dname, anno_fn, n_obj)\n",
    "        all_obj += n_obj\n",
    "\n",
    "print('Number of objects:', all_obj)"
   ]
  },
  {
   "cell_type": "code",
   "execution_count": 14,
   "metadata": {},
   "outputs": [],
   "source": [
    "## MOT16\n",
    "\n",
    "rootdir = './dataset/MOT16/train/'\n",
    "for path in os.listdir(rootdir):\n",
    "    path = rootdir+path\n",
    "    gt = np.loadtxt(path+'/gt/gt.txt', dtype=int, delimiter=',', usecols=(0,1,2,3,4,5,6,7))\n",
    "    gt = gt[np.argsort(gt[:,0])]\n",
    "    gt = gt[gt[:,7]==1]\n",
    "    # print(gt.shape)\n",
    "    label = gt[:,1]\n",
    "    for i,id in enumerate(np.unique(label)):\n",
    "        label[label==id] = i\n",
    "    gt[:,1] = label\n",
    "    num_frames = np.unique(gt[:,0]).shape[0]\n",
    "    current_path = path+'/labels_with_ids/'\n",
    "    if not os.path.exists(current_path):\n",
    "        os.makedirs(current_path)\n",
    "    for i in range(num_frames):\n",
    "        src = gt[gt[:,0]==i+1][:,0:6]\n",
    "        src[:,2] = src[:,2] + src[:,4]/2\n",
    "        src[:,3] = src[:,3] + src[:,5]/2\n",
    "        np.savetxt(current_path+str(i+1).rjust(6,'0')+'.txt', src, fmt='%d', delimiter=',')\n",
    ""
   ]
  },
  {
   "cell_type": "code",
   "execution_count": 131,
   "metadata": {},
   "outputs": [
    {
     "output_type": "stream",
     "name": "stdout",
     "text": "Filename=./dataset/CUHK/seq/set00-occ.seq\nSavepath=./dataset/CUHK/images/set00-occ\nFilename=./dataset/CUHK/seq/set01-occ.seq\nSavepath=./dataset/CUHK/images/set01-occ\nFilename=./dataset/CUHK/seq/set02-occ.seq\nSavepath=./dataset/CUHK/images/set02-occ\nFilename=./dataset/CUHK/seq/set03-occ.seq\nSavepath=./dataset/CUHK/images/set03-occ\nFilename=./dataset/CUHK/seq/set04-occ.seq\nSavepath=./dataset/CUHK/images/set04-occ\nFilename=./dataset/CUHK/seq/set05-occ.seq\nSavepath=./dataset/CUHK/images/set05-occ\nFilename=./dataset/CUHK/seq/set06-occ.seq\nSavepath=./dataset/CUHK/images/set06-occ\nFilename=./dataset/CUHK/seq/set07-occ.seq\nSavepath=./dataset/CUHK/images/set07-occ\nFilename=./dataset/CUHK/seq/set08-occ.seq\nSavepath=./dataset/CUHK/images/set08-occ\n"
    }
   ],
   "source": [
    "## CUHK images\n",
    "rootdir = './dataset/CUHK/seq/'\n",
    "filenames = os.listdir(rootdir)\n",
    "for filename in filenames:\n",
    "    thefilename = rootdir + filename\n",
    "    # create the image folder by combining .seq file path with .seq filename\n",
    "    thesavepath = thefilename.replace('/seq/', '/images/').rstrip('.seq')\n",
    "    print(\"Filename=\" + thefilename)\n",
    "    print(\"Savepath=\" + thesavepath)\n",
    "    if not os.path.exists(thesavepath):\n",
    "        os.makedirs(thesavepath)\n",
    "    vc = cv2.VideoCapture(thefilename)\n",
    "    retval, frame = vc.read()\n",
    "    i=0\n",
    "    while (retval):\n",
    "        cv2.imwrite(thesavepath+'/'+str(int(i))+'.jpg', frame)\n",
    "        retval, frame = vc.read()\n",
    "        i = i + 1"
   ]
  },
  {
   "cell_type": "code",
   "execution_count": 130,
   "metadata": {},
   "outputs": [
    {
     "output_type": "stream",
     "name": "stdout",
     "text": "Number of objects: 10191\n"
    }
   ],
   "source": [
    "## CUHK labels\n",
    "\n",
    "all_obj = 0\n",
    "label_path = './dataset/CUHK/labels_with_ids/'\n",
    "for anno_fn in os.listdir('./dataset/CUHK/gt/'):\n",
    "    vbb = loadmat('./dataset/CUHK/gt/'+anno_fn)\n",
    "    objLists = vbb['A'][0][0][1][0]\n",
    "    maxObj = int(vbb['A'][0][0][2][0][0])\n",
    "    current_path = label_path+anno_fn.rstrip('.vbb')\n",
    "    n_obj = 0\n",
    "    if not os.path.exists(current_path):\n",
    "        os.makedirs(current_path)\n",
    "    for frame_id, obj in enumerate(objLists):\n",
    "        with open(current_path+'/'+str(frame_id)+'.txt', 'w+') as dst:\n",
    "            if len(obj) > 0:\n",
    "                for id, pos in zip(\n",
    "                        obj['id'][0], obj['pos'][0]):\n",
    "                    id = int(id[0][0]) - 1  # MATLAB is 1-origin\n",
    "                    pos = pos[0].tolist()\n",
    "                    pos[0] = pos[0] + pos[2]/2\n",
    "                    pos[1] = pos[1] + pos[3]/2\n",
    "                    dst.write(str(frame_id)+','+str(id)+','+','.join(str(x) for x in pos)+'\\n')\n",
    "                    # print(str(frame_id)+','+str(id)+','+','.join(str(x) for x in pos))\n",
    "                    n_obj += 1\n",
    "\n",
    "    all_obj += n_obj\n",
    "\n",
    "print('Number of objects:', all_obj)"
   ]
  },
  {
   "cell_type": "code",
   "execution_count": 25,
   "metadata": {},
   "outputs": [],
   "source": [
    "# PRW\n",
    "\n",
    "src = '/mnt/d/Study/graduation_project/dataset/PRW/annotations/'\n",
    "dst = './dataset/PRW/labels_with_ids/'\n",
    "if not os.path.exists(dst):\n",
    "    os.makedirs(dst)\n",
    "for i,basename in enumerate(os.listdir(src)):\n",
    "    mat = loadmat(src+basename)\n",
    "    try:\n",
    "        label = mat['box_new']\n",
    "    except:\n",
    "        try:\n",
    "            label = mat['anno_file']\n",
    "        except:\n",
    "            label = mat['anno_previous']\n",
    "    frame_id = np.ones((label.shape[0],1))*(i+1)\n",
    "    label = np.concatenate((frame_id, label), axis=1)\n",
    "    label[:,1] = label[:,1] - 1\n",
    "    label[:,2] = label[:,2] + label[:,4]/2\n",
    "    label[:,3] = label[:,3] + label[:,5]/2\n",
    "    label[label==-3] = -1\n",
    "    save_path = dst + basename.replace('.jpg.mat', '.txt')\n",
    "    np.savetxt(save_path, label, fmt='%f', delimiter=',')"
   ]
  },
  {
   "cell_type": "code",
   "execution_count": 26,
   "metadata": {},
   "outputs": [
    {
     "output_type": "execute_result",
     "data": {
      "text/plain": "{-1.0,\n 0.0,\n 1.0,\n 2.0,\n 3.0,\n 4.0,\n 5.0,\n 6.0,\n 7.0,\n 8.0,\n 9.0,\n 10.0,\n 11.0,\n 12.0,\n 13.0,\n 14.0,\n 15.0,\n 16.0,\n 17.0,\n 18.0,\n 19.0,\n 20.0,\n 21.0,\n 22.0,\n 23.0,\n 24.0,\n 25.0,\n 26.0,\n 27.0,\n 28.0,\n 29.0,\n 30.0,\n 31.0,\n 32.0,\n 33.0,\n 34.0,\n 35.0,\n 36.0,\n 37.0,\n 38.0,\n 39.0,\n 40.0,\n 41.0,\n 42.0,\n 43.0,\n 44.0,\n 45.0,\n 46.0,\n 47.0,\n 48.0,\n 49.0,\n 50.0,\n 51.0,\n 52.0,\n 53.0,\n 54.0,\n 55.0,\n 56.0,\n 57.0,\n 58.0,\n 59.0,\n 60.0,\n 61.0,\n 62.0,\n 63.0,\n 64.0,\n 65.0,\n 66.0,\n 67.0,\n 68.0,\n 69.0,\n 70.0,\n 71.0,\n 72.0,\n 73.0,\n 74.0,\n 75.0,\n 76.0,\n 77.0,\n 78.0,\n 79.0,\n 80.0,\n 81.0,\n 82.0,\n 83.0,\n 84.0,\n 85.0,\n 86.0,\n 87.0,\n 88.0,\n 89.0,\n 90.0,\n 91.0,\n 92.0,\n 93.0,\n 94.0,\n 95.0,\n 96.0,\n 97.0,\n 98.0,\n 99.0,\n 100.0,\n 101.0,\n 102.0,\n 103.0,\n 104.0,\n 105.0,\n 106.0,\n 107.0,\n 108.0,\n 109.0,\n 110.0,\n 111.0,\n 112.0,\n 113.0,\n 114.0,\n 115.0,\n 116.0,\n 117.0,\n 118.0,\n 119.0,\n 120.0,\n 121.0,\n 122.0,\n 123.0,\n 124.0,\n 125.0,\n 126.0,\n 127.0,\n 128.0,\n 129.0,\n 130.0,\n 131.0,\n 132.0,\n 133.0,\n 134.0,\n 135.0,\n 136.0,\n 137.0,\n 138.0,\n 139.0,\n 140.0,\n 141.0,\n 142.0,\n 143.0,\n 144.0,\n 145.0,\n 146.0,\n 147.0,\n 148.0,\n 149.0,\n 150.0,\n 151.0,\n 152.0,\n 153.0,\n 154.0,\n 155.0,\n 156.0,\n 157.0,\n 158.0,\n 159.0,\n 160.0,\n 161.0,\n 162.0,\n 163.0,\n 164.0,\n 165.0,\n 166.0,\n 167.0,\n 168.0,\n 169.0,\n 170.0,\n 171.0,\n 172.0,\n 173.0,\n 174.0,\n 175.0,\n 176.0,\n 177.0,\n 178.0,\n 179.0,\n 180.0,\n 181.0,\n 182.0,\n 183.0,\n 184.0,\n 185.0,\n 186.0,\n 187.0,\n 188.0,\n 189.0,\n 190.0,\n 191.0,\n 192.0,\n 193.0,\n 194.0,\n 195.0,\n 196.0,\n 197.0,\n 198.0,\n 199.0,\n 200.0,\n 201.0,\n 202.0,\n 203.0,\n 204.0,\n 205.0,\n 206.0,\n 207.0,\n 208.0,\n 209.0,\n 210.0,\n 211.0,\n 212.0,\n 213.0,\n 214.0,\n 215.0,\n 216.0,\n 217.0,\n 218.0,\n 219.0,\n 220.0,\n 221.0,\n 222.0,\n 223.0,\n 224.0,\n 225.0,\n 226.0,\n 227.0,\n 228.0,\n 229.0,\n 230.0,\n 231.0,\n 232.0,\n 233.0,\n 234.0,\n 235.0,\n 236.0,\n 237.0,\n 238.0,\n 239.0,\n 240.0,\n 241.0,\n 242.0,\n 243.0,\n 244.0,\n 245.0,\n 246.0,\n 247.0,\n 248.0,\n 249.0,\n 250.0,\n 251.0,\n 252.0,\n 253.0,\n 254.0,\n 255.0,\n 256.0,\n 257.0,\n 258.0,\n 259.0,\n 260.0,\n 261.0,\n 262.0,\n 263.0,\n 264.0,\n 265.0,\n 266.0,\n 267.0,\n 268.0,\n 269.0,\n 270.0,\n 271.0,\n 272.0,\n 273.0,\n 274.0,\n 275.0,\n 276.0,\n 277.0,\n 278.0,\n 279.0,\n 280.0,\n 281.0,\n 282.0,\n 283.0,\n 284.0,\n 285.0,\n 286.0,\n 287.0,\n 288.0,\n 289.0,\n 290.0,\n 291.0,\n 292.0,\n 293.0,\n 294.0,\n 295.0,\n 296.0,\n 297.0,\n 298.0,\n 299.0,\n 300.0,\n 301.0,\n 302.0,\n 303.0,\n 304.0,\n 305.0,\n 306.0,\n 307.0,\n 308.0,\n 309.0,\n 310.0,\n 311.0,\n 312.0,\n 313.0,\n 314.0,\n 315.0,\n 316.0,\n 317.0,\n 318.0,\n 319.0,\n 320.0,\n 321.0,\n 322.0,\n 323.0,\n 324.0,\n 325.0,\n 326.0,\n 327.0,\n 328.0,\n 329.0,\n 330.0,\n 331.0,\n 332.0,\n 333.0,\n 334.0,\n 335.0,\n 336.0,\n 337.0,\n 338.0,\n 339.0,\n 340.0,\n 341.0,\n 342.0,\n 343.0,\n 344.0,\n 345.0,\n 346.0,\n 347.0,\n 348.0,\n 349.0,\n 350.0,\n 351.0,\n 352.0,\n 353.0,\n 354.0,\n 355.0,\n 356.0,\n 357.0,\n 358.0,\n 359.0,\n 360.0,\n 361.0,\n 362.0,\n 363.0,\n 364.0,\n 365.0,\n 366.0,\n 367.0,\n 368.0,\n 369.0,\n 370.0,\n 371.0,\n 372.0,\n 373.0,\n 374.0,\n 375.0,\n 376.0,\n 377.0,\n 378.0,\n 379.0,\n 380.0,\n 381.0,\n 382.0,\n 383.0,\n 384.0,\n 385.0,\n 386.0,\n 387.0,\n 388.0,\n 389.0,\n 390.0,\n 391.0,\n 392.0,\n 393.0,\n 394.0,\n 395.0,\n 396.0,\n 397.0,\n 398.0,\n 399.0,\n 400.0,\n 401.0,\n 402.0,\n 403.0,\n 404.0,\n 405.0,\n 406.0,\n 407.0,\n 408.0,\n 409.0,\n 410.0,\n 411.0,\n 412.0,\n 413.0,\n 414.0,\n 415.0,\n 416.0,\n 417.0,\n 418.0,\n 419.0,\n 420.0,\n 421.0,\n 422.0,\n 423.0,\n 424.0,\n 425.0,\n 426.0,\n 427.0,\n 428.0,\n 429.0,\n 430.0,\n 431.0,\n 432.0,\n 433.0,\n 434.0,\n 435.0,\n 436.0,\n 437.0,\n 438.0,\n 439.0,\n 440.0,\n 441.0,\n 442.0,\n 443.0,\n 444.0,\n 445.0,\n 446.0,\n 447.0,\n 448.0,\n 449.0,\n 450.0,\n 451.0,\n 452.0,\n 453.0,\n 454.0,\n 455.0,\n 456.0,\n 457.0,\n 458.0,\n 459.0,\n 460.0,\n 461.0,\n 462.0,\n 463.0,\n 464.0,\n 465.0,\n 466.0,\n 467.0,\n 468.0,\n 469.0,\n 470.0,\n 471.0,\n 472.0,\n 473.0,\n 474.0,\n 475.0,\n 476.0,\n 477.0,\n 478.0,\n 479.0,\n 480.0,\n 481.0,\n 482.0,\n 483.0,\n 484.0,\n 485.0,\n 486.0,\n 487.0,\n 488.0,\n 489.0,\n 490.0,\n 491.0,\n 492.0,\n 493.0,\n 494.0,\n 495.0,\n 496.0,\n 497.0,\n 498.0,\n 499.0,\n 500.0,\n 501.0,\n 502.0,\n 503.0,\n 504.0,\n 505.0,\n 506.0,\n 507.0,\n 508.0,\n 509.0,\n 510.0,\n 511.0,\n 512.0,\n 513.0,\n 514.0,\n 515.0,\n 516.0,\n 517.0,\n 518.0,\n 519.0,\n 520.0,\n 521.0,\n 522.0,\n 523.0,\n 524.0,\n 525.0,\n 526.0,\n 527.0,\n 528.0,\n 529.0,\n 530.0,\n 531.0,\n 532.0,\n 533.0,\n 534.0,\n 535.0,\n 536.0,\n 537.0,\n 538.0,\n 539.0,\n 540.0,\n 541.0,\n 542.0,\n 543.0,\n 544.0,\n 545.0,\n 546.0,\n 547.0,\n 548.0,\n 549.0,\n 550.0,\n 551.0,\n 552.0,\n 553.0,\n 554.0,\n 555.0,\n 556.0,\n 557.0,\n 558.0,\n 559.0,\n 560.0,\n 561.0,\n 562.0,\n 563.0,\n 564.0,\n 565.0,\n 566.0,\n 567.0,\n 568.0,\n 569.0,\n 570.0,\n 571.0,\n 572.0,\n 573.0,\n 574.0,\n 575.0,\n 576.0,\n 577.0,\n 578.0,\n 579.0,\n 580.0,\n 581.0,\n 582.0,\n 583.0,\n 584.0,\n 585.0,\n 586.0,\n 587.0,\n 588.0,\n 589.0,\n 590.0,\n 591.0,\n 592.0,\n 593.0,\n 594.0,\n 595.0,\n 596.0,\n 597.0,\n 598.0,\n 599.0,\n 600.0,\n 601.0,\n 602.0,\n 603.0,\n 604.0,\n 605.0,\n 606.0,\n 607.0,\n 608.0,\n 609.0,\n 610.0,\n 611.0,\n 612.0,\n 613.0,\n 614.0,\n 615.0,\n 616.0,\n 617.0,\n 618.0,\n 619.0,\n 620.0,\n 621.0,\n 622.0,\n 623.0,\n 624.0,\n 625.0,\n 626.0,\n 627.0,\n 628.0,\n 629.0,\n 630.0,\n 631.0,\n 632.0,\n 633.0,\n 634.0,\n 635.0,\n 636.0,\n 637.0,\n 638.0,\n 639.0,\n 640.0,\n 641.0,\n 642.0,\n 643.0,\n 644.0,\n 645.0,\n 646.0,\n 647.0,\n 648.0,\n 649.0,\n 650.0,\n 651.0,\n 652.0,\n 653.0,\n 654.0,\n 655.0,\n 656.0,\n 657.0,\n 658.0,\n 659.0,\n 660.0,\n 661.0,\n 662.0,\n 663.0,\n 664.0,\n 665.0,\n 666.0,\n 667.0,\n 668.0,\n 669.0,\n 670.0,\n 671.0,\n 672.0,\n 673.0,\n 674.0,\n 675.0,\n 676.0,\n 677.0,\n 678.0,\n 679.0,\n 680.0,\n 681.0,\n 682.0,\n 683.0,\n 684.0,\n 685.0,\n 686.0,\n 687.0,\n 688.0,\n 689.0,\n 690.0,\n 691.0,\n 692.0,\n 693.0,\n 694.0,\n 695.0,\n 696.0,\n 697.0,\n 698.0,\n 699.0,\n 700.0,\n 701.0,\n 702.0,\n 703.0,\n 704.0,\n 705.0,\n 706.0,\n 707.0,\n 708.0,\n 709.0,\n 710.0,\n 711.0,\n 712.0,\n 713.0,\n 714.0,\n 715.0,\n 716.0,\n 717.0,\n 718.0,\n 719.0,\n 720.0,\n 721.0,\n 722.0,\n 723.0,\n 724.0,\n 725.0,\n 726.0,\n 727.0,\n 728.0,\n 729.0,\n 730.0,\n 731.0,\n 732.0,\n 733.0,\n 734.0,\n 735.0,\n 736.0,\n 737.0,\n 738.0,\n 739.0,\n 740.0,\n 741.0,\n 742.0,\n 743.0,\n 744.0,\n 745.0,\n 746.0,\n 747.0,\n 748.0,\n 749.0,\n 750.0,\n 751.0,\n 752.0,\n 753.0,\n 754.0,\n 755.0,\n 756.0,\n 757.0,\n 758.0,\n 759.0,\n 760.0,\n 761.0,\n 762.0,\n 763.0,\n 764.0,\n 765.0,\n 766.0,\n 767.0,\n 768.0,\n 769.0,\n 770.0,\n 771.0,\n 772.0,\n 773.0,\n 774.0,\n 775.0,\n 776.0,\n 777.0,\n 778.0,\n 779.0,\n 780.0,\n 781.0,\n 782.0,\n 783.0,\n 784.0,\n 785.0,\n 786.0,\n 787.0,\n 788.0,\n 789.0,\n 790.0,\n 791.0,\n 792.0,\n 793.0,\n 794.0,\n 795.0,\n 796.0,\n 797.0,\n 798.0,\n 799.0,\n 800.0,\n 801.0,\n 802.0,\n 803.0,\n 804.0,\n 805.0,\n 806.0,\n 807.0,\n 808.0,\n 809.0,\n 810.0,\n 811.0,\n 812.0,\n 813.0,\n 814.0,\n 815.0,\n 816.0,\n 817.0,\n 818.0,\n 819.0,\n 820.0,\n 821.0,\n 822.0,\n 823.0,\n 824.0,\n 825.0,\n 826.0,\n 827.0,\n 828.0,\n 829.0,\n 830.0,\n 831.0,\n 832.0,\n 833.0,\n 834.0,\n 835.0,\n 836.0,\n 837.0,\n 838.0,\n 839.0,\n 840.0,\n 841.0,\n 842.0,\n 843.0,\n 844.0,\n 845.0,\n 846.0,\n 847.0,\n 848.0,\n 849.0,\n 850.0,\n 851.0,\n 852.0,\n 853.0,\n 854.0,\n 855.0,\n 856.0,\n 857.0,\n 858.0,\n 859.0,\n 860.0,\n 861.0,\n 862.0,\n 863.0,\n 864.0,\n 865.0,\n 866.0,\n 867.0,\n 868.0,\n 869.0,\n 870.0,\n 871.0,\n 872.0,\n 873.0,\n 874.0,\n 875.0,\n 876.0,\n 877.0,\n 878.0,\n 879.0,\n 880.0,\n 881.0,\n 882.0,\n 883.0,\n 884.0,\n 885.0,\n 886.0,\n 887.0,\n 888.0,\n 889.0,\n 890.0,\n 891.0,\n 892.0,\n 893.0,\n 894.0,\n 895.0,\n 896.0,\n 897.0,\n 898.0,\n 899.0,\n 900.0,\n 901.0,\n 902.0,\n 903.0,\n 904.0,\n 905.0,\n 906.0,\n 907.0,\n 908.0,\n 909.0,\n 910.0,\n 911.0,\n 912.0,\n 913.0,\n 914.0,\n 915.0,\n 916.0,\n 917.0,\n 918.0,\n 919.0,\n 920.0,\n 921.0,\n 922.0,\n 923.0,\n 924.0,\n 925.0,\n 926.0,\n 927.0,\n 928.0,\n 929.0,\n 930.0,\n 931.0,\n 932.0}"
     },
     "metadata": {},
     "execution_count": 26
    }
   ],
   "source": [
    "## check id\n",
    "path = './data/PRW.txt'\n",
    "with open(path, 'r') as file:\n",
    "    img_files = file.readlines()\n",
    "    img_files = [x.replace('\\n', '') for x in img_files]\n",
    "    img_files = list(filter(lambda x: len(x) > 0, img_files))\n",
    "\n",
    "label_files = [x.replace('images', 'labels_with_ids').replace('.png', '.txt').replace('.jpg', '.txt')\n",
    "                    for x in img_files]\n",
    "\n",
    "ids = []\n",
    "for lp in label_files:\n",
    "    lb = np.loadtxt(lp, delimiter=',')\n",
    "    if len(lb) < 1:\n",
    "        continue\n",
    "    if len(lb.shape) < 2:\n",
    "        ids.append(lb[1])\n",
    "    else:\n",
    "        ids = ids + list(lb[:,1])\n",
    "\n",
    "set(ids)\n",
    "\n",
    ""
   ]
  },
  {
   "cell_type": "code",
   "execution_count": 10,
   "metadata": {},
   "outputs": [
    {
     "output_type": "execute_result",
     "data": {
      "text/plain": "5071"
     },
     "metadata": {},
     "execution_count": 10
    }
   ],
   "source": [
    "len(set(ids))"
   ]
  },
  {
   "cell_type": "code",
   "execution_count": 17,
   "metadata": {},
   "outputs": [
    {
     "output_type": "execute_result",
     "data": {
      "text/plain": "array([[ 1., -2.,  1.],\n       [ 1., -2.,  1.],\n       [ 1., -2.,  1.],\n       [ 1., -2.,  1.]])"
     },
     "metadata": {},
     "execution_count": 17
    }
   ],
   "source": [
    "a = np.ones((4,3))\n",
    "a[:,1] = -2\n",
    "a"
   ]
  },
  {
   "cell_type": "code",
   "execution_count": 22,
   "metadata": {},
   "outputs": [
    {
     "output_type": "execute_result",
     "data": {
      "text/plain": "array([[11816.        ,   886.        ,    62.17088608,   393.61392405,\n          117.87341772,   364.55696203]])"
     },
     "metadata": {},
     "execution_count": 22
    }
   ],
   "source": [
    "label"
   ]
  },
  {
   "cell_type": "code",
   "execution_count": null,
   "metadata": {},
   "outputs": [],
   "source": []
  }
 ]
}